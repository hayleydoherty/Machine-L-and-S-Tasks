{
 "cells": [
  {
   "cell_type": "markdown",
   "metadata": {},
   "source": [
    "## Machine Learning and Statistics Tasks\n",
    "#### Hayley Doherty\n",
    "---"
   ]
  },
  {
   "cell_type": "markdown",
   "metadata": {},
   "source": [
    "### Task 1: Calculate the square root of 2 to 100 decimal places\n",
    "---\n",
    "In order to calculate the square root of 2 (or any number) will we use Newton's method. This algorithm produces successively better approximations of the root of a number [1]. To calculate the square root $z$ of a number $x$, we must start with guessing the square root and this guess will be adjusted with better guesses the more times we loop through the equation until we reach the guess as close to the square root as possible based on how close $z^2$ is to $x$ [2].\n",
    "$$ z = z - \\frac{z^2 - x}{2z} $$\n",
    "\n",
    "\n"
   ]
  },
  {
   "cell_type": "code",
   "execution_count": 1,
   "metadata": {},
   "outputs": [],
   "source": [
    "# code used to obtain the square root of 2\n",
    "def sqrt2():\n",
    "    z = 2/2\n",
    "    while abs(2-(z * z)) > 0.000001:\n",
    "        z-= (z * z - 2)/ (2 * z)\n",
    "    return z"
   ]
  },
  {
   "cell_type": "code",
   "execution_count": 2,
   "metadata": {},
   "outputs": [
    {
     "data": {
      "text/plain": [
       "1.4142135623746899"
      ]
     },
     "execution_count": 2,
     "metadata": {},
     "output_type": "execute_result"
    }
   ],
   "source": [
    "# calling the function to check it works\n",
    "sqrt2()"
   ]
  },
  {
   "cell_type": "code",
   "execution_count": 3,
   "metadata": {},
   "outputs": [
    {
     "data": {
      "text/plain": [
       "1.4142135623730951"
      ]
     },
     "execution_count": 3,
     "metadata": {},
     "output_type": "execute_result"
    }
   ],
   "source": [
    "# Testing my answer against known value\n",
    "import math\n",
    "math.sqrt(2)"
   ]
  },
  {
   "cell_type": "markdown",
   "metadata": {},
   "source": [
    "Below I have formatted the value that is returned by the function so that the answer is displayed to 100 decimal places. This is achieved using '.100f'. The format specification 'f' is used with floating point and decimal numbers to display the number as a fixed-point number [3]. The default precision is 6 however you can specify the number of decimal places you want to return by inserting that number infront of the specifier, 'f'. To return the answer to 100 decimal places I added 100 infront of 'f' as shown below."
   ]
  },
  {
   "cell_type": "code",
   "execution_count": 4,
   "metadata": {},
   "outputs": [],
   "source": [
    "# added formatting to return the answer to 100 decimal places\n",
    "def sqrt2():\n",
    "    z = 2/2\n",
    "    while abs(2-(z * z)) > 0.000001:\n",
    "        z-= (z * z - 2)/ (2 * z)\n",
    "    return format(z, '.100f')"
   ]
  },
  {
   "cell_type": "code",
   "execution_count": 5,
   "metadata": {},
   "outputs": [
    {
     "data": {
      "text/plain": [
       "'1.4142135623746898698271934335934929549694061279296875000000000000000000000000000000000000000000000000'"
      ]
     },
     "execution_count": 5,
     "metadata": {},
     "output_type": "execute_result"
    }
   ],
   "source": [
    "sqrt2()"
   ]
  },
  {
   "cell_type": "markdown",
   "metadata": {},
   "source": [
    "<br>\n",
    "\n",
    "---"
   ]
  },
  {
   "cell_type": "markdown",
   "metadata": {},
   "source": [
    "### Task 2: Chi-Square\n",
    "___\n",
    "A chi-square test, also known as Pearson's chi-squared test, is used to determine if there is a difference between the expected values and those actually observed. The null hypothesis states that there is no difference between the expected and observed values and if this is true then the test statistic calculated from these values will be chi-squared distributed [4]. This is the distribution of a sum of the squares of *k* independent standard normal random variables [5]. The value  produced by the chi-square test is called the chi-square statistic. A small value means that there is a high correlation between the expected and observed data, i.e. there is no difference between them. The eqution for calculating the chi-square statistic is shown below.\n",
    "$$X^2=\\sum{\\frac{(Oi - Ei)^{2}}{Ei}}$$\n",
    "\n",
    "$O$= Observed value(s)\n",
    "\n",
    "$E$= Expected value(s)\n",
    "\n",
    "The most common way of calculating the chi-square ststistic is by making a table, called a contingency table, used to summarize the frequency distribution between variables [6]. The function chi2_contingency from SciPy.stats. returns a contingency table containing the expected values based on the data we observed."
   ]
  },
  {
   "cell_type": "code",
   "execution_count": 1,
   "metadata": {},
   "outputs": [],
   "source": [
    "import numpy as np\n",
    "from scipy.stats import chi2_contingency\n",
    "\n",
    "#converted the data into a NumPy array \n",
    "\n",
    "white = [90, 60, 104, 95]\n",
    "blue = [30, 50, 51, 20]\n",
    "no = [30, 40, 45, 35]\n",
    "\n",
    "collar = np.array([white, blue, no])"
   ]
  },
  {
   "cell_type": "code",
   "execution_count": 2,
   "metadata": {},
   "outputs": [
    {
     "data": {
      "text/plain": [
       "(24.5712028585826,\n",
       " 0.0004098425861096696,\n",
       " 6,\n",
       " array([[ 80.53846154,  80.53846154, 107.38461538,  80.53846154],\n",
       "        [ 34.84615385,  34.84615385,  46.46153846,  34.84615385],\n",
       "        [ 34.61538462,  34.61538462,  46.15384615,  34.61538462]]))"
      ]
     },
     "execution_count": 2,
     "metadata": {},
     "output_type": "execute_result"
    }
   ],
   "source": [
    "# passed the array into the chi-square function\n",
    "chi2_contingency(collar)"
   ]
  },
  {
   "cell_type": "markdown",
   "metadata": {},
   "source": [
    "Above we can see the output from the chi-square function, however it can be hard to understand what the output means and so I have used the code and print statements below, adapted from [6], to return the output in a neater and easier to understand fashion."
   ]
  },
  {
   "cell_type": "code",
   "execution_count": 5,
   "metadata": {},
   "outputs": [
    {
     "name": "stdout",
     "output_type": "stream",
     "text": [
      "Chi Stat\n",
      "24.5712028585826\n",
      "\n",
      "\n",
      "Degrees of Freedom\n",
      "6\n",
      "\n",
      "\n",
      "P-Value\n",
      "0.0004098425861096696\n",
      "\n",
      "\n",
      "Contingency Table\n",
      "[[ 80.53846154  80.53846154 107.38461538  80.53846154]\n",
      " [ 34.84615385  34.84615385  46.46153846  34.84615385]\n",
      " [ 34.61538462  34.61538462  46.15384615  34.61538462]]\n"
     ]
    }
   ],
   "source": [
    "chi_stat, p_val, dof, table = chi2_contingency(collar)\n",
    "print(\"Chi Stat\")\n",
    "print(chi_stat)\n",
    "print(\"\\n\")\n",
    "print(\"Degrees of Freedom\")\n",
    "print(dof)\n",
    "print(\"\\n\")\n",
    "print(\"P-Value\")\n",
    "print(p_val)\n",
    "print(\"\\n\")\n",
    "print(\"Contingency Table\")\n",
    "print(table)"
   ]
  },
  {
   "cell_type": "markdown",
   "metadata": {},
   "source": [
    "The chi-square value obtained, 24.5712028585826, matches that presented in the task instructions. The p-value obtained, *p*=0.0004098425861096696, is less than 0.001, indicating a high level of statistical significance. The significance level allows us to conclude that there is a difference bewteen the three groups, however as there are more than two groups, further analysis would have to be performed to reveal exactly which of the groups differed from each other.\n",
    "\n",
    "___"
   ]
  },
  {
   "cell_type": "markdown",
   "metadata": {},
   "source": [
    "### Task 3: Comparison of standard deviation functions\n",
    "\n",
    "___\n",
    "The standard deviation (SD) of a set of numbers is the measure of the amount of variation between the  numbers in the set. A low SD suggests that the numbers in the set are close to the mean while a high SD would indicate that the values are spread over a wide range [7]. \n",
    "\n",
    "It is often not possible to study whole populations and so a sample from the population of interest is often investigated. It is important that the sample well represents the population from which it is drawn and that the selection of the sample is random. By ensuring that the sample is chosen randomly we prevent biased measurements and can conclude that the average of the sample is close to the true population mean [10].\n",
    "\n",
    "The population SD is a parameter which is a fixed value whereas the sample SD is a statistic calculated from a portion of the population and so contains variability. The formulae for calculating both SDs are very similar as can be seen below, with the only difference being that in the sample SD you must divide by $n$-1 rather than dividing by $n$ as in the population SD [11].\n",
    "\n",
    "There are two formulas that can be used to calculate the SD of a data set, sample and population SD. The formula to use depends on what your data set represents. If your data set consists of the entire population or if you are not generalizing you sample data set to a larger population then you wuld calculate the population SD; however if your data set consists of a sample from a larger population to which you will generalize your findings the sample SD should be used [8].\n",
    "\n",
    "The Excel population SD function, written STDEV.P, calculates the SD based on the entire population given as arguments. It is calculated using the 'n' method [9]:\n",
    "\n",
    "$$\\sigma=\\sqrt{\\frac{\\sum(x-\\overline{x})^2}{n}}$$\n",
    "\n",
    "$\\sigma$= population standard deviation<br>\n",
    "$\\sum$= sum of...<br>\n",
    "$\\overline{x}$= population mean<br>\n",
    "$n$= population size<br>\n",
    "\n",
    "The Excel sample SD function, written STDEV.S, calculates the SD based on the a proportion of the population, i.e. a sample. The formula used by Excel to calculate STDEV.S is:\n",
    "\n",
    "$$\\sigma=\\sqrt{\\frac{\\sum(x-\\overline{x})^2}{n-1}}$$\n",
    "$\\sigma$= sample standard deviation<br>\n",
    "$\\sum$= sum of...<br>\n",
    "$\\overline{x}$= sample mean<br>\n",
    "$n$= sample size<br>\n",
    "\n",
    "The NumPy formula for calculating the SD is the same as the excel version for calculating the population SD. Therefore if you were to use this on a sample data set the SD obtained would not be accurate. "
   ]
  },
  {
   "cell_type": "code",
   "execution_count": 6,
   "metadata": {},
   "outputs": [
    {
     "data": {
      "text/plain": [
       "0.9521904571390466"
      ]
     },
     "execution_count": 6,
     "metadata": {},
     "output_type": "execute_result"
    }
   ],
   "source": [
    "a = [2, 3, 2, 3, 1, 3, 2, 1, 3, 2, 4, 2, 4, 3, 1]\n",
    "np.std(a) # performs population SD"
   ]
  },
  {
   "cell_type": "markdown",
   "metadata": {},
   "source": [
    "When the SD is calculated in Excel using STDEV.S, the output is 0.9856107606. As the Excel formula takes into account the fact that the array input into the formula is a sample it would suggests that this calculation is more accurate comapred to the NumPy formula. However you can set a parameter in the NumPy.std function that enables you to calculate the sample SD, called delta degrees of freedon (ddof), which you set to 1, altering the formula to the same formula used by Excel STDEV.S [12]."
   ]
  },
  {
   "cell_type": "code",
   "execution_count": 7,
   "metadata": {
    "scrolled": true
   },
   "outputs": [
    {
     "data": {
      "text/plain": [
       "0.9856107606091623"
      ]
     },
     "execution_count": 7,
     "metadata": {},
     "output_type": "execute_result"
    }
   ],
   "source": [
    "np.std(a, ddof=1) # sample SD"
   ]
  },
  {
   "cell_type": "markdown",
   "metadata": {},
   "source": [
    "---"
   ]
  },
  {
   "cell_type": "markdown",
   "metadata": {},
   "source": [
    "### Task 4: $k$-means Clustering\n",
    "---\n",
    "The purpose of this task is to apply $k$-means clustering to Fischer's Iris data set. This method attempts to separate data into groups(clusters) of equal variance. "
   ]
  },
  {
   "cell_type": "code",
   "execution_count": 13,
   "metadata": {},
   "outputs": [],
   "source": [
    "# import libraries required for the task\n",
    "import sklearn.cluster as skcl\n",
    "import pandas as pd\n",
    "import matplotlib.pyplot as plt"
   ]
  },
  {
   "cell_type": "code",
   "execution_count": 6,
   "metadata": {},
   "outputs": [
    {
     "data": {
      "text/html": [
       "<div>\n",
       "<style scoped>\n",
       "    .dataframe tbody tr th:only-of-type {\n",
       "        vertical-align: middle;\n",
       "    }\n",
       "\n",
       "    .dataframe tbody tr th {\n",
       "        vertical-align: top;\n",
       "    }\n",
       "\n",
       "    .dataframe thead th {\n",
       "        text-align: right;\n",
       "    }\n",
       "</style>\n",
       "<table border=\"1\" class=\"dataframe\">\n",
       "  <thead>\n",
       "    <tr style=\"text-align: right;\">\n",
       "      <th></th>\n",
       "      <th>sepal_length</th>\n",
       "      <th>sepal_width</th>\n",
       "      <th>petal_length</th>\n",
       "      <th>petal_width</th>\n",
       "      <th>species</th>\n",
       "    </tr>\n",
       "  </thead>\n",
       "  <tbody>\n",
       "    <tr>\n",
       "      <td>0</td>\n",
       "      <td>5.1</td>\n",
       "      <td>3.5</td>\n",
       "      <td>1.4</td>\n",
       "      <td>0.2</td>\n",
       "      <td>Iris-setosa</td>\n",
       "    </tr>\n",
       "    <tr>\n",
       "      <td>1</td>\n",
       "      <td>4.9</td>\n",
       "      <td>3.0</td>\n",
       "      <td>1.4</td>\n",
       "      <td>0.2</td>\n",
       "      <td>Iris-setosa</td>\n",
       "    </tr>\n",
       "    <tr>\n",
       "      <td>2</td>\n",
       "      <td>4.7</td>\n",
       "      <td>3.2</td>\n",
       "      <td>1.3</td>\n",
       "      <td>0.2</td>\n",
       "      <td>Iris-setosa</td>\n",
       "    </tr>\n",
       "    <tr>\n",
       "      <td>3</td>\n",
       "      <td>4.6</td>\n",
       "      <td>3.1</td>\n",
       "      <td>1.5</td>\n",
       "      <td>0.2</td>\n",
       "      <td>Iris-setosa</td>\n",
       "    </tr>\n",
       "    <tr>\n",
       "      <td>4</td>\n",
       "      <td>5.0</td>\n",
       "      <td>3.6</td>\n",
       "      <td>1.4</td>\n",
       "      <td>0.2</td>\n",
       "      <td>Iris-setosa</td>\n",
       "    </tr>\n",
       "    <tr>\n",
       "      <td>...</td>\n",
       "      <td>...</td>\n",
       "      <td>...</td>\n",
       "      <td>...</td>\n",
       "      <td>...</td>\n",
       "      <td>...</td>\n",
       "    </tr>\n",
       "    <tr>\n",
       "      <td>145</td>\n",
       "      <td>6.7</td>\n",
       "      <td>3.0</td>\n",
       "      <td>5.2</td>\n",
       "      <td>2.3</td>\n",
       "      <td>Iris-virginica</td>\n",
       "    </tr>\n",
       "    <tr>\n",
       "      <td>146</td>\n",
       "      <td>6.3</td>\n",
       "      <td>2.5</td>\n",
       "      <td>5.0</td>\n",
       "      <td>1.9</td>\n",
       "      <td>Iris-virginica</td>\n",
       "    </tr>\n",
       "    <tr>\n",
       "      <td>147</td>\n",
       "      <td>6.5</td>\n",
       "      <td>3.0</td>\n",
       "      <td>5.2</td>\n",
       "      <td>2.0</td>\n",
       "      <td>Iris-virginica</td>\n",
       "    </tr>\n",
       "    <tr>\n",
       "      <td>148</td>\n",
       "      <td>6.2</td>\n",
       "      <td>3.4</td>\n",
       "      <td>5.4</td>\n",
       "      <td>2.3</td>\n",
       "      <td>Iris-virginica</td>\n",
       "    </tr>\n",
       "    <tr>\n",
       "      <td>149</td>\n",
       "      <td>5.9</td>\n",
       "      <td>3.0</td>\n",
       "      <td>5.1</td>\n",
       "      <td>1.8</td>\n",
       "      <td>Iris-virginica</td>\n",
       "    </tr>\n",
       "  </tbody>\n",
       "</table>\n",
       "<p>150 rows × 5 columns</p>\n",
       "</div>"
      ],
      "text/plain": [
       "     sepal_length  sepal_width  petal_length  petal_width         species\n",
       "0             5.1          3.5           1.4          0.2     Iris-setosa\n",
       "1             4.9          3.0           1.4          0.2     Iris-setosa\n",
       "2             4.7          3.2           1.3          0.2     Iris-setosa\n",
       "3             4.6          3.1           1.5          0.2     Iris-setosa\n",
       "4             5.0          3.6           1.4          0.2     Iris-setosa\n",
       "..            ...          ...           ...          ...             ...\n",
       "145           6.7          3.0           5.2          2.3  Iris-virginica\n",
       "146           6.3          2.5           5.0          1.9  Iris-virginica\n",
       "147           6.5          3.0           5.2          2.0  Iris-virginica\n",
       "148           6.2          3.4           5.4          2.3  Iris-virginica\n",
       "149           5.9          3.0           5.1          1.8  Iris-virginica\n",
       "\n",
       "[150 rows x 5 columns]"
      ]
     },
     "execution_count": 6,
     "metadata": {},
     "output_type": "execute_result"
    }
   ],
   "source": [
    "# read the data set in as a data frame using pandas\n",
    "df = pd.read_csv('irisdata.csv')\n",
    "df"
   ]
  },
  {
   "cell_type": "code",
   "execution_count": 9,
   "metadata": {},
   "outputs": [],
   "source": [
    "# locating the values needed to pass into the k-means algoithm\n",
    "x = df.iloc[:, [0, 1, 2, 3]].values"
   ]
  },
  {
   "cell_type": "code",
   "execution_count": 10,
   "metadata": {},
   "outputs": [],
   "source": [
    "# running the algorithm, must insert number of clusters as a parameter into\n",
    "# the algorithm, here it is known we have 3, one for each species\n",
    "# if number of clusters is unknown, can be dfound using the elbow method\n",
    "kmeans = skcl.KMeans(n_clusters=3, random_state=0).fit(x)"
   ]
  },
  {
   "cell_type": "markdown",
   "metadata": {},
   "source": [
    "The results below are the 3 clusters into which the $k$-means algorithm has grouped the data set. These clusters correspond to the 3 species of Iris, with 0= Iris-Versicolor, 1= Iris-Setosa and 2= Iris-Virginica. As seen by looking at the results, it seems that a majority of the data points have been classified into the correct cluster however there are some errors. As we know the correct classification of the data set we can work out how accurate the $k$-means clustering is."
   ]
  },
  {
   "cell_type": "code",
   "execution_count": 44,
   "metadata": {},
   "outputs": [
    {
     "data": {
      "text/plain": [
       "array([1, 1, 1, 1, 1, 1, 1, 1, 1, 1, 1, 1, 1, 1, 1, 1, 1, 1, 1, 1, 1, 1,\n",
       "       1, 1, 1, 1, 1, 1, 1, 1, 1, 1, 1, 1, 1, 1, 1, 1, 1, 1, 1, 1, 1, 1,\n",
       "       1, 1, 1, 1, 1, 1, 0, 0, 2, 0, 0, 0, 0, 0, 0, 0, 0, 0, 0, 0, 0, 0,\n",
       "       0, 0, 0, 0, 0, 0, 0, 0, 0, 0, 0, 2, 0, 0, 0, 0, 0, 0, 0, 0, 0, 0,\n",
       "       0, 0, 0, 0, 0, 0, 0, 0, 0, 0, 0, 0, 2, 0, 2, 2, 2, 2, 0, 2, 2, 2,\n",
       "       2, 2, 2, 0, 0, 2, 2, 2, 2, 0, 2, 0, 2, 0, 2, 2, 0, 0, 2, 2, 2, 2,\n",
       "       2, 0, 2, 2, 2, 2, 0, 2, 2, 2, 0, 2, 2, 2, 0, 2, 2, 0])"
      ]
     },
     "execution_count": 44,
     "metadata": {},
     "output_type": "execute_result"
    }
   ],
   "source": [
    "# the labels attribute labels each point with the cluster is has been assigned to\n",
    "results=(kmeans.labels_)\n",
    "results"
   ]
  },
  {
   "cell_type": "code",
   "execution_count": 51,
   "metadata": {},
   "outputs": [
    {
     "data": {
      "text/plain": [
       "[<matplotlib.lines.Line2D at 0x1c607fd9a08>]"
      ]
     },
     "execution_count": 51,
     "metadata": {},
     "output_type": "execute_result"
    },
    {
     "data": {
      "image/png": "[encoded data removed]",
      "text/plain": [
       "<Figure size 432x288 with 1 Axes>"
      ]
     },
     "metadata": {
      "needs_background": "light"
     },
     "output_type": "display_data"
    }
   ],
   "source": [
    "#\n",
    "plt.plot(x[kmeans.labels_ == 0][:,0], x[kmeans.labels_ == 0][:,1], 'gx')\n",
    "plt.plot(x[kmeans.labels_ == 1][:,0], x[kmeans.labels_ == 1][:,1], 'rx')\n",
    "plt.plot(x[kmeans.labels_ == 2][:,0], x[kmeans.labels_ == 2][:,1], 'bx')"
   ]
  },
  {
   "cell_type": "code",
   "execution_count": 45,
   "metadata": {},
   "outputs": [],
   "source": [
    "# as there are 50 points in each cluster I split the results into the separate clusters a, b and c\n",
    "[a, b, c]=np.split(results, 3)"
   ]
  },
  {
   "cell_type": "markdown",
   "metadata": {},
   "source": [
    "The a group which correspond to the Setosa species should all be labelled 1 and so when added should total 50, which it does meaning that this group have been clustered correctly."
   ]
  },
  {
   "cell_type": "code",
   "execution_count": 46,
   "metadata": {},
   "outputs": [
    {
     "data": {
      "text/plain": [
       "50"
      ]
     },
     "execution_count": 46,
     "metadata": {},
     "output_type": "execute_result"
    }
   ],
   "source": [
    "# adding the first cluster\n",
    "np.sum(a)"
   ]
  },
  {
   "cell_type": "markdown",
   "metadata": {},
   "source": [
    "The second cluster (b) should be labelled all 0's as these are from the Versicolor species but when added together the total comes to 4 and we can see that 2 of the points have been mislabelled as Virginicas."
   ]
  },
  {
   "cell_type": "code",
   "execution_count": 47,
   "metadata": {},
   "outputs": [
    {
     "data": {
      "text/plain": [
       "4"
      ]
     },
     "execution_count": 47,
     "metadata": {},
     "output_type": "execute_result"
    }
   ],
   "source": [
    "# adding the second cluster\n",
    "np.sum(b)"
   ]
  },
  {
   "cell_type": "markdown",
   "metadata": {},
   "source": [
    "The third cluster should all be labelled 2 as they are from the Virginica so when the cluster is added the total should be 100 but is comes to 72 making a difference of 28. We can see that a number of the points have been labelled as 0 instead of 2 meaning that 14 points have been classified wrongly."
   ]
  },
  {
   "cell_type": "code",
   "execution_count": 48,
   "metadata": {},
   "outputs": [
    {
     "data": {
      "text/plain": [
       "72"
      ]
     },
     "execution_count": 48,
     "metadata": {},
     "output_type": "execute_result"
    }
   ],
   "source": [
    "# adding the third cluster\n",
    "np.sum(c)"
   ]
  },
  {
   "cell_type": "markdown",
   "metadata": {},
   "source": [
    "As a total of 16 points have been clustered into the worng group, we can say that the chance of this occuring is 10.6667%. "
   ]
  },
  {
   "cell_type": "markdown",
   "metadata": {},
   "source": [
    "Below is a method that can be used to predict the species of Iris based on values given that are not part of the data set used previously. The kmeans model generated with the Iris set data is used to make these predictions, adding the test values to the cluster which it most resembles. The first was added to the Versicolor cluster (0) and the second to the Virginica cluster(2)."
   ]
  },
  {
   "cell_type": "code",
   "execution_count": 25,
   "metadata": {},
   "outputs": [
    {
     "data": {
      "text/plain": [
       "array([0, 2])"
      ]
     },
     "execution_count": 25,
     "metadata": {},
     "output_type": "execute_result"
    }
   ],
   "source": [
    "# made-up 2 values to use with the .predict attribute which will predict which cluster they fall into\n",
    "testvals = np.array([[5.3, 2.8, 4.8, 1.0], [6.8, 2.5, 5.2, 1.8]])\n",
    "predictions = kmeans.predict(testvals)\n",
    "predictions"
   ]
  },
  {
   "cell_type": "code",
   "execution_count": 29,
   "metadata": {},
   "outputs": [
    {
     "data": {
      "text/plain": [
       "[<matplotlib.lines.Line2D at 0x1c607c6c748>]"
      ]
     },
     "execution_count": 29,
     "metadata": {},
     "output_type": "execute_result"
    },
    {
     "data": {
      "image/png": "[encoded data removed]",
      "text/plain": [
       "<Figure size 432x288 with 1 Axes>"
      ]
     },
     "metadata": {
      "needs_background": "light"
     },
     "output_type": "display_data"
    }
   ],
   "source": [
    "# plotting each cluster as well as the 2 predictions (yellow dots)\n",
    "plt.plot(x[kmeans.labels_ == 0][:,0], x[kmeans.labels_ == 0][:,1], 'gx')\n",
    "plt.plot(x[kmeans.labels_ == 1][:,0], x[kmeans.labels_ == 1][:,1], 'rx')\n",
    "plt.plot(x[kmeans.labels_ == 2][:,0], x[kmeans.labels_ == 2][:,1], 'bx')\n",
    "plt.plot(testvals[:,0], testvals[:,1], 'yo')"
   ]
  },
  {
   "cell_type": "code",
   "execution_count": 30,
   "metadata": {},
   "outputs": [
    {
     "data": {
      "text/plain": [
       "array([[5.9016129 , 2.7483871 , 4.39354839, 1.43387097],\n",
       "       [5.006     , 3.418     , 1.464     , 0.244     ],\n",
       "       [6.85      , 3.07368421, 5.74210526, 2.07105263]])"
      ]
     },
     "execution_count": 30,
     "metadata": {},
     "output_type": "execute_result"
    }
   ],
   "source": [
    "# calculating the centre of each cluster (sometimes called centroid)\n",
    "centre = kmeans.cluster_centers_\n",
    "centre"
   ]
  },
  {
   "cell_type": "code",
   "execution_count": 31,
   "metadata": {},
   "outputs": [
    {
     "data": {
      "text/plain": [
       "[<matplotlib.lines.Line2D at 0x1c607fd9e88>]"
      ]
     },
     "execution_count": 31,
     "metadata": {},
     "output_type": "execute_result"
    },
    {
     "data": {
      "image/png": "[encoded data removed]",
      "text/plain": [
       "<Figure size 432x288 with 1 Axes>"
      ]
     },
     "metadata": {
      "needs_background": "light"
     },
     "output_type": "display_data"
    }
   ],
   "source": [
    "# plot of each cluster including its centroid and the 2 predictions\n",
    "plt.plot(x[kmeans.labels_ == 0][:,0], x[kmeans.labels_ == 0][:,1], 'gx')\n",
    "plt.plot(x[kmeans.labels_ == 1][:,0], x[kmeans.labels_ == 1][:,1], 'rx')\n",
    "plt.plot(x[kmeans.labels_ == 2][:,0], x[kmeans.labels_ == 2][:,1], 'bx')\n",
    "plt.plot(testvals[:,0], testvals[:,1], 'yo')\n",
    "plt.plot(centre[:,0], centre[:,1], 'k.')"
   ]
  },
  {
   "cell_type": "code",
   "execution_count": null,
   "metadata": {},
   "outputs": [],
   "source": []
  },
  {
   "cell_type": "code",
   "execution_count": null,
   "metadata": {},
   "outputs": [],
   "source": []
  },
  {
   "cell_type": "code",
   "execution_count": null,
   "metadata": {},
   "outputs": [],
   "source": []
  },
  {
   "cell_type": "markdown",
   "metadata": {},
   "source": [
    "[1]. Newton's method; https://en.wikipedia.org/wiki/Newton%27s_method\n",
    "\n",
    "[2]. A Tour of Go; Exercise: Loops and Functions; https://tour.golang.com/flowcontrol/8\n",
    "\n",
    "[3]. Format Specifications; The Python Standard Library; https://docs.python.org/3/library/string.html#format-string-syntax\n",
    "\n",
    "[4]. Chi-squared test; https://en.wikipedia.org/wiki/Chi-squared_test\n",
    "\n",
    "[5]. Chi-square distribution; https://en.wikipedia.org/wiki/Chi-square_distribution\n",
    "\n",
    "[6]. Running Chi-Square Tests with Die Roll Data in Python, Jake Huneycutt; https://towardsdatascience.com/running-chi-square-tests-in-python-with-die-roll-data-b9903817c51b\n",
    "\n",
    "[7]. Standard Deviation; https://en.wikipedia.org/wiki/Standard_deviation\n",
    "\n",
    "[8]. Standard Deviation; https://statistics.laerd.com/statistical-guides/measures-of-spread-standard-deviation.php\n",
    "\n",
    "[9]. STDEV.P funcion; https://support.microsoft.com/en-us/office/stdev-p-function-6e917c05-31a0-496f-ade7-4f4e7462f285#:~:text=P%20function,-Excel%20for%20Microsoft&text=Calculates%20standard%20deviation%20based%20on,average%20value%20(the%20mean).\n",
    "\n",
    "[10]. Populations and Samples; https://www.bmj.com/about-bmj/resources-readers/publications/statistics-square-one/3-populations-and-samples\n",
    "\n",
    "[11]. Differences between Population and Sample Standard Deviations; https://www.thoughtco.com/population-vs-sample-standard-deviations-3126372#:~:text=The%20population%20standard%20deviation%20is,the%20individuals%20in%20a%20population.\n",
    "\n",
    "[12]. numpy.std, NumPy v1.19 Manual; https://numpy.org/doc/stable/reference/generated/numpy.std.html#numpy.std"
   ]
  },
  {
   "cell_type": "code",
   "execution_count": null,
   "metadata": {},
   "outputs": [],
   "source": []
  }
 ],
 "metadata": {
  "kernelspec": {
   "display_name": "Python 3",
   "language": "python",
   "name": "python3"
  },
  "language_info": {
   "codemirror_mode": {
    "name": "ipython",
    "version": 3
   },
   "file_extension": ".py",
   "mimetype": "text/x-python",
   "name": "python",
   "nbconvert_exporter": "python",
   "pygments_lexer": "ipython3",
   "version": "3.7.4"
  }
 },
 "nbformat": 4,
 "nbformat_minor": 2
}
