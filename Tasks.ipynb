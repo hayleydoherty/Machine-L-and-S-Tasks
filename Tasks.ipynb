{
 "cells": [
  {
   "cell_type": "markdown",
   "metadata": {},
   "source": [
    "## Machine Learning and Statistics Tasks\n",
    "#### Hayley Doherty\n",
    "---"
   ]
  },
  {
   "cell_type": "markdown",
   "metadata": {},
   "source": [
    "### Task 1: Calculate the square root of 2 to 100 decimal places\n",
    "---\n",
    "In order to calculate the square root of 2 (or any number) will we use Newton's method. This algorithm produces successively better approximations of the root of a number [1]. To calculate the square root $z$ of a number $x$, we must start with guessing the square root and this guess will be adjusted with better guesses the more times we loop through the equation until we reach the guess as close to the square root as possible based on how close $z^2$ is to $x$ [2].\n",
    "$$ z = z - \\frac{z^2 - x}{2z} $$\n",
    "\n",
    "\n"
   ]
  },
  {
   "cell_type": "code",
   "execution_count": 1,
   "metadata": {},
   "outputs": [],
   "source": [
    "# code used to obtain the square root of 2\n",
    "def sqrt2():\n",
    "    z = 2/2\n",
    "    while abs(2-(z * z)) > 0.000001:\n",
    "        z-= (z * z - 2)/ (2 * z)\n",
    "    return z"
   ]
  },
  {
   "cell_type": "code",
   "execution_count": 2,
   "metadata": {},
   "outputs": [
    {
     "data": {
      "text/plain": [
       "1.4142135623746899"
      ]
     },
     "execution_count": 2,
     "metadata": {},
     "output_type": "execute_result"
    }
   ],
   "source": [
    "# calling the function to check it works\n",
    "sqrt2()"
   ]
  },
  {
   "cell_type": "code",
   "execution_count": 3,
   "metadata": {},
   "outputs": [
    {
     "data": {
      "text/plain": [
       "1.4142135623730951"
      ]
     },
     "execution_count": 3,
     "metadata": {},
     "output_type": "execute_result"
    }
   ],
   "source": [
    "# Testing my answer against known value\n",
    "import math\n",
    "math.sqrt(2)"
   ]
  },
  {
   "cell_type": "markdown",
   "metadata": {},
   "source": [
    "Below I have formatted the value that is returned by the function so that the answer is displayed to 100 decimal places. This is achieved using '.100f'. The format specification 'f' is used with floating point and decimal numbers to display the number as a fixed-point number [3]. The default precision is 6 however you can specify the number of decimal places you want to return by inserting that number infront of the specifier, 'f'. To return the answer to 100 decimal places I added 100 infront of 'f' as shown below."
   ]
  },
  {
   "cell_type": "code",
   "execution_count": 4,
   "metadata": {},
   "outputs": [],
   "source": [
    "# added formatting to return the answer to 100 decimal places\n",
    "def sqrt2():\n",
    "    z = 2/2\n",
    "    while abs(2-(z * z)) > 0.000001:\n",
    "        z-= (z * z - 2)/ (2 * z)\n",
    "    return format(z, '.100f')"
   ]
  },
  {
   "cell_type": "code",
   "execution_count": 5,
   "metadata": {},
   "outputs": [
    {
     "data": {
      "text/plain": [
       "'1.4142135623746898698271934335934929549694061279296875000000000000000000000000000000000000000000000000'"
      ]
     },
     "execution_count": 5,
     "metadata": {},
     "output_type": "execute_result"
    }
   ],
   "source": [
    "sqrt2()"
   ]
  },
  {
   "cell_type": "markdown",
   "metadata": {},
   "source": [
    "[1]. Newton's method; https://en.wikipedia.org/wiki/Newton%27s_method\n",
    "\n",
    "[2]. A Tour of Go; Exercise: Loops and Functions; https://tour.golang.com/flowcontrol/8\n",
    "\n",
    "[3]. Format Specifications; The Python Standard Library; https://docs.python.org/3/library/string.html#format-string-syntax"
   ]
  },
  {
   "cell_type": "code",
   "execution_count": null,
   "metadata": {},
   "outputs": [],
   "source": []
  }
 ],
 "metadata": {
  "kernelspec": {
   "display_name": "Python 3",
   "language": "python",
   "name": "python3"
  },
  "language_info": {
   "codemirror_mode": {
    "name": "ipython",
    "version": 3
   },
   "file_extension": ".py",
   "mimetype": "text/x-python",
   "name": "python",
   "nbconvert_exporter": "python",
   "pygments_lexer": "ipython3",
   "version": "3.7.4"
  }
 },
 "nbformat": 4,
 "nbformat_minor": 2
}
